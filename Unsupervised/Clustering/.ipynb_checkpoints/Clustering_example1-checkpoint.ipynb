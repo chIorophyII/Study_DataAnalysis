{
 "cells": [
  {
   "cell_type": "markdown",
   "id": "analyzed-current",
   "metadata": {},
   "source": [
    "## example1\n",
    "### 감독자의 직무능력평가 데이터"
   ]
  },
  {
   "cell_type": "code",
   "execution_count": 2,
   "id": "enhanced-tracy",
   "metadata": {},
   "outputs": [],
   "source": [
    "# 데이터 구성 : Series, DataFrame\n",
    "import pandas as pd\n",
    "\n",
    "# 행렬 연산\n",
    "import numpy as np\n",
    "\n",
    "# 데이터 시각화\n",
    "import matplotlib.pyplot as plt\n",
    "import matplotlib\n",
    "matplotlib.rc(\"font\", family = \"Malgun Gothic\")\n",
    "\n",
    "# Scale 변환 : 평균, 표준편차 기준\n",
    "from sklearn.preprocessing import StandardScaler\n",
    "\n",
    "# linkage : 계층형 군집분석, dendrogram : 계층구조 나무, cluster : linkage로부터 얻은 값으로 군집 생성\n",
    "from scipy.cluster.hierarchy import linkage, dendrogram, fcluster\n",
    "\n",
    "# kMeans 군집분석, DBSCAN 군집분석\n",
    "from sklearn.cluster import KMeans, DBSCAN"
   ]
  },
  {
   "cell_type": "markdown",
   "id": "informational-smoke",
   "metadata": {},
   "source": [
    "### 데이터 구성"
   ]
  },
  {
   "cell_type": "code",
   "execution_count": 3,
   "id": "interior-scout",
   "metadata": {},
   "outputs": [
    {
     "data": {
      "text/html": [
       "<div>\n",
       "<style scoped>\n",
       "    .dataframe tbody tr th:only-of-type {\n",
       "        vertical-align: middle;\n",
       "    }\n",
       "\n",
       "    .dataframe tbody tr th {\n",
       "        vertical-align: top;\n",
       "    }\n",
       "\n",
       "    .dataframe thead th {\n",
       "        text-align: right;\n",
       "    }\n",
       "</style>\n",
       "<table border=\"1\" class=\"dataframe\">\n",
       "  <thead>\n",
       "    <tr style=\"text-align: right;\">\n",
       "      <th></th>\n",
       "      <th>EVAL</th>\n",
       "      <th>DISSATIS</th>\n",
       "      <th>PRIVILEGE</th>\n",
       "      <th>CHANCE</th>\n",
       "      <th>ADVANCE</th>\n",
       "      <th>CRITISM</th>\n",
       "      <th>PROMOTION</th>\n",
       "    </tr>\n",
       "  </thead>\n",
       "  <tbody>\n",
       "    <tr>\n",
       "      <th>0</th>\n",
       "      <td>43</td>\n",
       "      <td>51</td>\n",
       "      <td>30</td>\n",
       "      <td>39</td>\n",
       "      <td>61</td>\n",
       "      <td>92</td>\n",
       "      <td>45</td>\n",
       "    </tr>\n",
       "    <tr>\n",
       "      <th>1</th>\n",
       "      <td>63</td>\n",
       "      <td>64</td>\n",
       "      <td>51</td>\n",
       "      <td>54</td>\n",
       "      <td>63</td>\n",
       "      <td>73</td>\n",
       "      <td>47</td>\n",
       "    </tr>\n",
       "    <tr>\n",
       "      <th>2</th>\n",
       "      <td>71</td>\n",
       "      <td>70</td>\n",
       "      <td>68</td>\n",
       "      <td>69</td>\n",
       "      <td>76</td>\n",
       "      <td>86</td>\n",
       "      <td>48</td>\n",
       "    </tr>\n",
       "    <tr>\n",
       "      <th>3</th>\n",
       "      <td>61</td>\n",
       "      <td>63</td>\n",
       "      <td>45</td>\n",
       "      <td>47</td>\n",
       "      <td>54</td>\n",
       "      <td>84</td>\n",
       "      <td>35</td>\n",
       "    </tr>\n",
       "    <tr>\n",
       "      <th>4</th>\n",
       "      <td>81</td>\n",
       "      <td>78</td>\n",
       "      <td>56</td>\n",
       "      <td>66</td>\n",
       "      <td>71</td>\n",
       "      <td>83</td>\n",
       "      <td>47</td>\n",
       "    </tr>\n",
       "  </tbody>\n",
       "</table>\n",
       "</div>"
      ],
      "text/plain": [
       "   EVAL  DISSATIS  PRIVILEGE  CHANCE  ADVANCE  CRITISM  PROMOTION\n",
       "0    43        51         30      39       61       92         45\n",
       "1    63        64         51      54       63       73         47\n",
       "2    71        70         68      69       76       86         48\n",
       "3    61        63         45      47       54       84         35\n",
       "4    81        78         56      66       71       83         47"
      ]
     },
     "execution_count": 3,
     "metadata": {},
     "output_type": "execute_result"
    }
   ],
   "source": [
    "df_raw = pd.read_csv(\"data/직무능력평가.csv\", engine = \"python\")\n",
    "df_raw.head()"
   ]
  },
  {
   "cell_type": "markdown",
   "id": "massive-integration",
   "metadata": {},
   "source": [
    "### 데이터 전처리"
   ]
  },
  {
   "cell_type": "code",
   "execution_count": 7,
   "id": "technological-athletics",
   "metadata": {},
   "outputs": [
    {
     "data": {
      "text/plain": [
       "array([[-1.8076031 , -1.19166169, -1.92300586, -1.50494461, -0.35542617,\n",
       "         1.77141034,  0.20430138],\n",
       "       [-0.13647543, -0.19861028, -0.17733772, -0.20508842, -0.15977874,\n",
       "        -0.18159526,  0.4020124 ],\n",
       "       [ 0.53197564,  0.25972114,  1.23582221,  1.09476777,  1.11192959,\n",
       "         1.15467173,  0.50086791],\n",
       "       [-0.30358819, -0.27499885, -0.67610004, -0.81168798, -1.0401922 ,\n",
       "         0.9490922 , -0.78425369],\n",
       "       [ 1.36753948,  0.87082969,  0.23829756,  0.83479653,  0.622811  ,\n",
       "         0.84630243,  0.4020124 ]])"
      ]
     },
     "execution_count": 7,
     "metadata": {},
     "output_type": "execute_result"
    }
   ],
   "source": [
    "# 데이터 표준화\n",
    "scaler = StandardScaler()\n",
    "df_raw_scaled = scaler.fit_transform(df_raw)\n",
    "df_raw_scaled[:5]"
   ]
  },
  {
   "cell_type": "code",
   "execution_count": 8,
   "id": "fiscal-rally",
   "metadata": {},
   "outputs": [],
   "source": [
    "# 목표 변수\n",
    "df_raw_y = df_raw_scaled[:,0]\n",
    "\n",
    "# 설명 변수\n",
    "df_raw_x = df_raw_scaled[:,1::]"
   ]
  },
  {
   "cell_type": "markdown",
   "id": "ahead-nancy",
   "metadata": {},
   "source": [
    "### Dendrogram"
   ]
  },
  {
   "cell_type": "code",
   "execution_count": 15,
   "id": "patent-modem",
   "metadata": {},
   "outputs": [
    {
     "data": {
      "text/plain": [
       "Text(0, 0.5, 'sample index')"
      ]
     },
     "execution_count": 15,
     "metadata": {},
     "output_type": "execute_result"
    },
    {
     "data": {
      "image/png": "[encoded data removed]",
      "text/plain": [
       "<Figure size 432x288 with 1 Axes>"
      ]
     },
     "metadata": {
      "needs_background": "light"
     },
     "output_type": "display_data"
    }
   ],
   "source": [
    "# 연결 : ward, 거리: Euclidean\n",
    "Z_ward = linkage(df_raw_x, method = \"ward\", metric = \"euclidean\")\n",
    "\n",
    "# 연결 : average, 거리: Euclidean\n",
    "Z_average = linkage(df_raw_x, method = \"average\", metric = \"euclidean\")\n",
    "\n",
    "# 연결 : average 거리: Minkowski\n",
    "Z_Minkowski = linkage(df_raw_x, method = \"average\", metric = \"minkowski\")\n",
    "\n",
    "# 덴드로그램 [연결 : ward, 거리 계산 : Euclidean]\n",
    "# plt.figure(figsize = (10, 10))\n",
    "# ax = plt.subplot(111)\n",
    "\n",
    "# DataFrame 변경 : Z_ward, Z_average, Z_Minkowski\n",
    "dendrogram(Z_ward, leaf_font_size = 10, orientation = \"right\")\n",
    "plt.title(\"HIerarchical Clustering Dendrogram\")\n",
    "plt.xlabel(\"distance\")\n",
    "plt.ylabel(\"sample index\")"
   ]
  },
  {
   "cell_type": "code",
   "execution_count": 17,
   "id": "conscious-stanford",
   "metadata": {},
   "outputs": [
    {
     "data": {
      "text/plain": [
       "Text(0, 0.5, 'sample index')"
      ]
     },
     "execution_count": 17,
     "metadata": {},
     "output_type": "execute_result"
    },
    {
     "data": {
      "image/png": "[encoded data removed]",
      "text/plain": [
       "<Figure size 432x288 with 1 Axes>"
      ]
     },
     "metadata": {
      "needs_background": "light"
     },
     "output_type": "display_data"
    }
   ],
   "source": [
    "# plt.figure(figsize = (10, 10))\n",
    "# ax = plt.subplot(111)\n",
    "\n",
    "# DataFrame 변경 : Z_ward, Z_average, Z_Minkowski\n",
    "dendrogram(Z_average, leaf_font_size = 10, orientation = \"right\")\n",
    "plt.title(\"HIerarchical Clustering Dendrogram\")\n",
    "plt.xlabel(\"distance\")\n",
    "plt.ylabel(\"sample index\")"
   ]
  },
  {
   "cell_type": "code",
   "execution_count": 19,
   "id": "above-review",
   "metadata": {},
   "outputs": [
    {
     "data": {
      "text/plain": [
       "Text(0, 0.5, 'sample index')"
      ]
     },
     "execution_count": 19,
     "metadata": {},
     "output_type": "execute_result"
    },
    {
     "data": {
      "image/png": "[encoded data removed]",
      "text/plain": [
       "<Figure size 432x288 with 1 Axes>"
      ]
     },
     "metadata": {
      "needs_background": "light"
     },
     "output_type": "display_data"
    }
   ],
   "source": [
    "# plt.figure(figsize = (10, 10))\n",
    "# ax = plt.subplot(111)\n",
    "\n",
    "# DataFrame 변경 : Z_ward, Z_average, Z_Minkowski\n",
    "dendrogram(Z_Minkowski, leaf_font_size = 10, orientation = \"right\")\n",
    "plt.title(\"HIerarchical Clustering Dendrogram\")\n",
    "plt.xlabel(\"distance\")\n",
    "plt.ylabel(\"sample index\")"
   ]
  },
  {
   "cell_type": "code",
   "execution_count": null,
   "id": "adverse-carrier",
   "metadata": {},
   "outputs": [],
   "source": []
  }
 ],
 "metadata": {
  "kernelspec": {
   "display_name": "Python 3",
   "language": "python",
   "name": "python3"
  },
  "language_info": {
   "codemirror_mode": {
    "name": "ipython",
    "version": 3
   },
   "file_extension": ".py",
   "mimetype": "text/x-python",
   "name": "python",
   "nbconvert_exporter": "python",
   "pygments_lexer": "ipython3",
   "version": "3.7.9"
  }
 },
 "nbformat": 4,
 "nbformat_minor": 5
}
