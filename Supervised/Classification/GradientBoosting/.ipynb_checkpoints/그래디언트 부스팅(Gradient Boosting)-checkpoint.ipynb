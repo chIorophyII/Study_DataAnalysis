{
 "cells": [
  {
   "cell_type": "markdown",
   "id": "96d67271",
   "metadata": {},
   "source": [
    "# 그래디언트 부스팅(Gradient Boosting)\n",
    "### 정의\n",
    "### : 다수의 결정 트리를 통합해 강력한 모델을 만드는 앙상법 기법으로 이전 학습의 결과를 다음 학습에 전달해 이전의 오차(잔요오차)를 점진적으로 개선하는 방법\n",
    "> - 복잡하지 않은 모델에서 시작해 이전 모델에 대한 학습을 통해 모델 성능을 개선(boosting 방식)\n",
    "> - 이전 모델의 (잔여)오차를 지속적으로 개선하는 모델로 다양한 분야에 적용되는 인기 있는 기계학습 방법\n",
    "> - 매개변수 조정(특히 학습률)에 민감해 트리가 추가 될수록 과대적합이 될 수 있음"
   ]
  },
  {
   "cell_type": "markdown",
   "id": "71471c22",
   "metadata": {},
   "source": [
    "## 파라미터\n",
    "### * 조정 대상 파라미터(의사결정나무 참조)\n",
    "- 분리 기준\n",
    "- 트리 개수\n",
    "- 최대 깊이\n",
    "- 분리 노드 최소 자료 수\n",
    "- 잎사귀 노드 최소 자료 수\n",
    "- 최대 잎사귀 노드 수\n",
    "\n",
    "### * 학습률\n",
    "### * 설명변수 중요도"
   ]
  },
  {
   "cell_type": "markdown",
   "id": "c0e696ea",
   "metadata": {},
   "source": [
    "### 그래디언트 부스팅 모델 : GradientBoostingClassifier\n",
    "sklearn.ensemble.**GradientBoostingClassifier(learning_rate = 0.1, n_estimators = 100, criterion = \"friedman_mse\", min_samples_split = 2, min_samples_leaf = 1, random_state = None, max_depth = 3, max_features = None,...)\n",
    "\n",
    "> learning_rate =: 학습률 지정. 이전 모델을 학습하는 정도. default(0.1) [0~1.0]  \n",
    "> n_estimators : 생성할 트리 개수 지정. default(100)  \n",
    "\n",
    "> criterion : 분리 기준 지정. default(friedman_mse)  \n",
    ">    > mse : 평균 제곱 오차(mean squared error)  \n",
    ">    > friedman_mse : friedman_mse에 의해 보완된 mse  \n",
    ">    > mae : 평균 절대 오차(mean absolute error)  \n",
    "\n",
    "> max_depth : 최대 깊이 지정. default(None)  \n",
    "> min_samples_split : 분리 노드의 최소 자료 수 지정. 지정값보다 자료 수가 작으면 분리 미실행. default(2)  \n",
    "> min_samples_leaf : 잎사귀 노드 최소 자료 수 지정. 모든 리프(끝 노드)의 수가 잎사귀 노드 최소 자료 수보다 클 때까지 분리    \n",
    "\n",
    "> random_state : 초기 자료 선택 기준. 값에 따라 선택되는 데이터가 달라짐. default(None)  \n",
    "\n",
    "> max_features : 모델 생성시 사용하는 설명변수의 수 지정(계산된 수만큼 설명변수를 임의 선택). default(None)  \n",
    ">    > auto : sqrt(전체 변수의 수) 값 만큼 변수 임의 선택. sqrt와 동일  \n",
    ">    > sqrt : sqrt(전체 변수의 수) 값 만큼 변수 임의 선택  \n",
    ">    > log2 : log2(전체 변수의 수) 값 만큼 변수 임의 선택  \n",
    ">    > None : 전체 변수 사용  "
   ]
  }
 ],
 "metadata": {
  "kernelspec": {
   "display_name": "Python 3",
   "language": "python",
   "name": "python3"
  },
  "language_info": {
   "codemirror_mode": {
    "name": "ipython",
    "version": 3
   },
   "file_extension": ".py",
   "mimetype": "text/x-python",
   "name": "python",
   "nbconvert_exporter": "python",
   "pygments_lexer": "ipython3",
   "version": "3.8.10"
  }
 },
 "nbformat": 4,
 "nbformat_minor": 5
}
