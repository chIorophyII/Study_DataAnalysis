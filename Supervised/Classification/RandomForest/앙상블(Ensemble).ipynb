{
 "cells": [
  {
   "cell_type": "markdown",
   "id": "sublime-three",
   "metadata": {},
   "source": [
    "# 앙상블(Ensemble)\n",
    "### 정의\n",
    "### : 앙상블(ensemble)은 모델의 성능 개선을 목적으로 다양한 알고리즘을 이용한 다수의 모델을 통합하는 방법"
   ]
  },
  {
   "cell_type": "markdown",
   "id": "touched-strain",
   "metadata": {},
   "source": [
    "### 앙상블 방법\n",
    "> - 전체 데이터에서 **변수나 데이터를 샘플링**해 만든 훈련용 데이터를 이용해 **다수의 모델을 만들고 결합**  \n",
    "> - **Random Forest** : **독립적으로 다수의 모델을 생성하고 결합해 다수결 투표를 통해** 레이블을 분류하는 모델링\n",
    "> - **Gradient Boosting** : **순차적으로 이전 모델을 학습하고 파라미터를 조정해 잔여오차를 지속적으로 줄여가는** 모델링"
   ]
  },
  {
   "cell_type": "markdown",
   "id": "suited-pound",
   "metadata": {},
   "source": [
    "### 장점\n",
    "> - 다수의 모델을 생성/결합하거나 이전 모델의 오차를 지속적으로 개선함으로써 단일 모델보다 성능(정확도)이 좋고 안정적(일반성)  \n",
    "> - 전체 불순도를 감소시킴으로써 오분류를 줄이는 경향성을 보임\n",
    "> - 이상치에 대한 대응력이 높아져 안정적인 결과를 보임\n",
    "> - 일반적으로 과대적합을 방지하는 특성이 있음  \n",
    "  \n",
    "### 단점\n",
    "> - **직관적이지 않고 해석의 어려움 (다수의 결정 트리 모델을 생성하므로 트리 구조 확인 애로)**\n",
    "  \n",
    "### 활용용도 : 신뢰도(정확도 개선 및 모델 안정성 유지) 높은 모델 개발"
   ]
  }
 ],
 "metadata": {
  "kernelspec": {
   "display_name": "Python 3",
   "language": "python",
   "name": "python3"
  },
  "language_info": {
   "codemirror_mode": {
    "name": "ipython",
    "version": 3
   },
   "file_extension": ".py",
   "mimetype": "text/x-python",
   "name": "python",
   "nbconvert_exporter": "python",
   "pygments_lexer": "ipython3",
   "version": "3.8.10"
  }
 },
 "nbformat": 4,
 "nbformat_minor": 5
}
