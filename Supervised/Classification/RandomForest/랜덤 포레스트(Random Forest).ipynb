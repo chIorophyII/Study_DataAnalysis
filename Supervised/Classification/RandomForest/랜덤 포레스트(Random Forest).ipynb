{
 "cells": [
  {
   "cell_type": "markdown",
   "id": "cubic-verification",
   "metadata": {},
   "source": [
    "# 랜덤 포레스트(Random Forest)\n",
    "### 정의\n",
    "### : 독립적으로 다수의 결정 트리를 생성하고 그 결과를 결합한(예측 레이블 빈도/확률) 최종 모델을 생성함으로써 성능을 높이고 과대적합을 방지해 안정적인 모델을 생성하는 앙상블 방법\n",
    "> 일반적으로 설명변수 및 표본을 무작위로 추출(복원추출, bagging 방식)해 모델 생성  \n",
    "> 생성된 다수 모델의 분류한 결과를 결합해 다수결 투표로 레이블을 결정, 모델의 일반화(안정성)이 향상됨  \n",
    "> 과대 적합 위험이 있는 하나의 결정 트리 보다 안정적이고 예측 성능이 높음"
   ]
  },
  {
   "cell_type": "markdown",
   "id": "genetic-chile",
   "metadata": {},
   "source": [
    "## 파라미터\n",
    "### * 조정 대상 파라미터 (의사결정나무 참조)\n",
    "- 분리 기준\n",
    "- 트리 개수\n",
    "- 최대 깊이\n",
    "- 분리 노드 최소 자료 수\n",
    "- 잎사귀 노드 최소 자료 수\n",
    "- 최대 잎사귀 노드 수  \n",
    "\n",
    "### * OOB 평가\n",
    "### * 설명변수 중요도"
   ]
  },
  {
   "cell_type": "markdown",
   "id": "logical-mainland",
   "metadata": {},
   "source": [
    "### 랜덤 포레스트 모델 : RandomForestClassifier\n",
    "sklearn.ensemble.**RandomForestClassifier**(n_estimators = \"warn\", criterion = \"gini\", max_depth = None, min_samples_split = 2, min_samples_leaf = 1, max_features = \"auto\", max_leaf_noeds = None, bootstrap = True, oob_score = False, random_state = None)\n",
    "\n",
    "> n_estimators : 생성할 트리 개수 지정. default(warn)  \n",
    "\n",
    "> criterion : 분리 기준 지정. default(gini)  \n",
    ">    > gini : 지니 지수  \n",
    ">    > entropy : 엔트로피 지수  \n",
    "\n",
    "> max_depth : 최대 깊이 지정. default(None)  \n",
    "> min_samples_split : 분리 노드의 최소 자료 수 지정. 지정값보다 자료 수가 작으면 분리 미실행. default(2)  \n",
    "> min_samples_leaf : 잎사귀 노드 최소 자료 수 지정. 지정값보다 자료 수가 작으면 분리 미실행. default(1)  \n",
    "\n",
    "> max_features : 모델 생성시 사용하는 설명변수의 수 지정(계산된 수만큼 설명변수를 임의 선택). default(auto)  \n",
    ">    > auto : sqrt(전체 변수의 수) 값 만큼 변수 임의 선택. sqrt와 동일  \n",
    ">    > sqrt : sqrt(전체 변수의 수) 값 만큼 변수 임의 선택  \n",
    ">    > log2 : log2(전체 변수의 수) 값 만큼 변수 임의 선택  \n",
    ">    > None : 전체 변수 사용  \n",
    "\n",
    "> max_leaf_nodes : 최대 분리 노드(leaf) 수 지정. default(None)  \n",
    "> bootstrap : bootstrap 사용 지정. default(None)  \n",
    "> oob_score : 일반적인 정확도 추정을 위한 oob 데이터 사용 지정. default(False)  \n",
    "> random_state : 초기 자료 선택 기준. 값에 따라 선택되는 데이터가 달라짐. default(None)"
   ]
  },
  {
   "cell_type": "code",
   "execution_count": null,
   "id": "8fe1dad4",
   "metadata": {},
   "outputs": [],
   "source": []
  }
 ],
 "metadata": {
  "kernelspec": {
   "display_name": "Python 3",
   "language": "python",
   "name": "python3"
  },
  "language_info": {
   "codemirror_mode": {
    "name": "ipython",
    "version": 3
   },
   "file_extension": ".py",
   "mimetype": "text/x-python",
   "name": "python",
   "nbconvert_exporter": "python",
   "pygments_lexer": "ipython3",
   "version": "3.8.10"
  }
 },
 "nbformat": 4,
 "nbformat_minor": 5
}
