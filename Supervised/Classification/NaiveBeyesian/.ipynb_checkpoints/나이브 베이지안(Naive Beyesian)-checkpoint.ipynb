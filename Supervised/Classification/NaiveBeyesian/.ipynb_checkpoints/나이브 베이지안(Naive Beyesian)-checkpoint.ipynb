{
 "cells": [
  {
   "cell_type": "markdown",
   "id": "b01e5b27",
   "metadata": {},
   "source": [
    "# 나이브 베이지안 (Naive Beyesian)\n",
    "## 정의\n",
    "### : 베이즈 정리를 활용해 조건부 독립의 사전확률을 통해 사후확률을 추정, 사후 확률이 높은 항목으로 분류/예측하는 분석 방법\n",
    "### : 사전 확률의 조건부 독립 가정이 비현실적이나 계산이 간편해 널리 이용"
   ]
  },
  {
   "cell_type": "markdown",
   "id": "4b2327cc",
   "metadata": {},
   "source": [
    "## 활용용도\n",
    "> - **특정 단어의 빈도 수로 문서 분류**(메일-spam/정상 판별, 문서, 기사-스포츠, 정치 분야 등 구분)  \n",
    "> - **환자 프로파일, 유형 특성별 의료 진단**  \n",
    "> - **제조공정에서 고장발생 유형을 파악**하고 **사전에 고장을 예방**  \n",
    "> - 사전지식을 활용한 불확실한 상황에서의 의사결정 등(최근 사용 빈도 증가)\n",
    "\n",
    "## 특징\n",
    "* 장점  \n",
    "> - 단순하고 빠르며, 결측 데이터가 있어도 비교적 잘 수행  \n",
    "> - 데이터 양(적거나 많거나)에 덜 민감  \n",
    "> - 예측/분류에 대한 추정 확률 얻기가 용이  \n",
    "\n",
    "* 단점\n",
    "> - 가정의 비현실성 : 모든 속성은 독립, 중요도도 동일\n",
    "> - 연속형 속성이 많은 데이터에 적용 시 확률 해석 주의  \n",
    "> - 추정된 확률에 대한 신뢰성이 상대적으로 낮음  \n",
    "\n",
    "## 분석방법\n",
    "- 베이즈 정리를 활용해 **사전 확률과 사후 확률 계산**  \n",
    "- 새로운 데이터가 들어오는 경우 **원인이 된 사건의 확률을 계산해 분류**"
   ]
  },
  {
   "cell_type": "markdown",
   "id": "2130431a",
   "metadata": {},
   "source": [
    "## 베이즈 정리(Bayes' Theorem Naive)\n",
    "### : 영국의 철학자 Bayes에 의해 완성된 것으로 어떤 실험으로부터 얻은 결과를 가지고 특정사건이 발생하는 원인에 대한 확률을 구하는 이론\n",
    "\n",
    "### : 표본공간 $S$가 $k$개의 배반사건 $F_1, F_2, ..., F_k$로 분할된다고 할 때 임의의 사건 $E$가 일어날 때 사건 $F_i$가 발생할 조건부 확률은 다음과 같음\n",
    "$$P(\\frac{F_i}{E}) = \\frac {P(\\frac{E}{F_i})P(F_i)} {P(\\frac{E}{F_i})P(F_1) + P(\\frac{E}{F_i})P(F_2) + ... + P(\\frac{E}{F_k})P(F_k)}$$"
   ]
  }
 ],
 "metadata": {
  "kernelspec": {
   "display_name": "Python 3",
   "language": "python",
   "name": "python3"
  },
  "language_info": {
   "codemirror_mode": {
    "name": "ipython",
    "version": 3
   },
   "file_extension": ".py",
   "mimetype": "text/x-python",
   "name": "python",
   "nbconvert_exporter": "python",
   "pygments_lexer": "ipython3",
   "version": "3.8.10"
  }
 },
 "nbformat": 4,
 "nbformat_minor": 5
}
