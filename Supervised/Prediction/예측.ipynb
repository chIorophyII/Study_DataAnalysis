{
 "cells": [
  {
   "cell_type": "markdown",
   "id": "alternate-playlist",
   "metadata": {},
   "source": [
    "# 예측 모델(Prediction Model)\n",
    "## 모델링 데이터 구조\n",
    "### 개요\n",
    "#### : 분석 목적에 따라 수집된 데이터 구조는 다름. 지도학습 - 목표+설명변수 / 비지도학습 - 설명(입력)변수\n",
    "#### : 지도학습 데이터는 목표변수의 유형에 따라 예측(연속형) 또는 분류(범주형)로 구분됨\n",
    "\n",
    "### 데이터 구조 및 적용 모델\n",
    "- **지도학습**\n",
    "> 선형/로지스틱 회귀(Regression)  \n",
    "> K-최근접 이웃(k-Nearest Neighbors)  \n",
    "> 서포트 벡터 머신(SVM)  \n",
    "> 결정 트리(Decision Tree)  \n",
    "> 앙상블(Random Forest, Boosting)  \n",
    "> 신경망(Neural Network) 등  \n",
    "\n",
    "- **비지도학습**  \n",
    "> 군집분석(Clustering)  \n",
    "> 주성분분석(PCA)  \n",
    "> 연관 규칙(Association)  \n",
    "> 시각화(Visualization)와 차원  "
   ]
  },
  {
   "cell_type": "markdown",
   "id": "f56a4a53",
   "metadata": {},
   "source": [
    "## 교차 검증(Corss-Validation)\n",
    "### 정의\n",
    "#### : 데이터를 훈련용(train, 모델 생성 및 계수 추정)과 검증(valid) / 시험(test)용(모델 성능 평가) 구분해 사용\n",
    "#### : 하지만 고정된 시험용 데이터로 모델 성능 평가, 파라미터 수정을 반복하면 과적합 발생\n",
    "#### : 이를 방지하기 위해 훈련용 및 시험용 데이터를 교차 변경해 사용하는 방법  \n",
    "### 목적 및 활용\n",
    "#### : 최적의 Hyper Parameter 선택을 통한 좋은 모델 생성\n",
    "#### : 모델의 안정적인 일반화 성능 확보\n",
    "#### : 모델의 최적 Hyper parameter 조합 탐색 시 사용 가능\n",
    "\n",
    "### 특징\n",
    "- **장점**  \n",
    "> 모든 데이터를 검증에 활용(특정 검증데이터에 대한 과적합 방지)  \n",
    "> 더 일반화된 모델 생성 가능  \n",
    "> 모든 데이터를 훈련에 활용(특히 데이터가 적은 경우 과소적합 방지)  \n",
    "\n",
    "- **단점**  \n",
    "> 모델 훈련/평가 시간이 오래 걸림(반복 횟수 증가)  \n",
    "\n",
    "### 종류 및 특징\n",
    "- **hold-out**\n",
    "> 특정 비율로 train/test 데이터 분할. 1번 실행  \n",
    "- **k-Fold CV**\n",
    "> k개 fold로 분할하고 test 데이터를 다르게 할당  \n",
    "> 가장 일반적인 방법. (보통 5~10 fold 사용)  \n",
    "- **leave-p-out CV**\n",
    "> 전체 데이터에서 p개 자료를 검증에 사용  \n",
    "> 반복횟수 : $_nC_p$\n",
    "- **leave-one-out CV**\n",
    "> leave-p-out CV에서 p=1인 경우  \n",
    "> 실행속도 빠르고 많은 데이터를 모델 생성에 사용하므로 모델 성능이 좋은 편임  \n",
    "> 특히 데이터가 작은 경우 효과적임  \n",
    "\n",
    "### Grid Search\n",
    "#### : 모델의 주요 Hyper Parameter 값을 일정 간격으로 조합하면서 최적 성능의 모델을 탐색하는 방법\n",
    "> 여러 개 Hyper Parameter 조합을 생성/실행해 최적 성능의 모델 실행 조건을 도출\n",
    "> 상대적으로 조합수가 적을 때 주로 사용하는 방식(실행 소요시간 고려)  \n",
    "> Hyper Parameter의 Search Space가 클 땐, Randomized Search (무작위 탐색 기법)을 사용\n",
    "![GridSearch](GridSearch.jpg)"
   ]
  }
 ],
 "metadata": {
  "kernelspec": {
   "display_name": "Python 3",
   "language": "python",
   "name": "python3"
  },
  "language_info": {
   "codemirror_mode": {
    "name": "ipython",
    "version": 3
   },
   "file_extension": ".py",
   "mimetype": "text/x-python",
   "name": "python",
   "nbconvert_exporter": "python",
   "pygments_lexer": "ipython3",
   "version": "3.8.10"
  }
 },
 "nbformat": 4,
 "nbformat_minor": 5
}
